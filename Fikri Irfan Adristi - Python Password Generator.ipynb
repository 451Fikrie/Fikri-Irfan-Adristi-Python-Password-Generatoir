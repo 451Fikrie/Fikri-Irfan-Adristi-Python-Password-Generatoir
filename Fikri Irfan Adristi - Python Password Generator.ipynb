{
  "nbformat": 4,
  "nbformat_minor": 0,
  "metadata": {
    "colab": {
      "name": "Fikri Irfan Adristi - Python Password Generator.ipynb",
      "provenance": [],
      "collapsed_sections": []
    },
    "kernelspec": {
      "name": "python3",
      "display_name": "Python 3"
    },
    "language_info": {
      "name": "python"
    }
  },
  "cells": [
    {
      "cell_type": "markdown",
      "source": [
        "# ***Python Password Generator***\n",
        "## By: Fikri Irfan Adristi"
      ],
      "metadata": {
        "id": "9ewmWnMmCpBB"
      }
    },
    {
      "cell_type": "markdown",
      "source": [
        "## Pendahuluan \n",
        "Menurut Dashlane [1] *password generator* adalah alat yang secara otomatis membuat *password* berdasarkan pedoman yang telah ditetapkan untuk membuat *password* yang kuat dan tidak terduga untuk setiap akun.\n",
        "\n",
        "Menurut Dashlane [1] *password generator* yang baik dapat melakukan hal-hal berikut ini:\n",
        "1. Menyesuaikan pedoman agar sesuai dengan persyaratan kata sandi unik pada setiap situs yang berbeda\n",
        "2. Menghasilkan kata sandi yang kuat menggunakan teknologi aman dengan *randomness* bawaan.\n",
        "3. Diintegrasikan ke dalam *password manager* untuk membuat, mengelola, dan dengan mudah menggunakan semua kata sandi yang telah dibuat.\n",
        "\n",
        "Daftar simbol dapat diakses di: https://www.penuliscilik.com/47-nama-simbol-di-keyboard-komputer-laptop-dan-smartphone/ [2]"
      ],
      "metadata": {
        "id": "roA6pV2HDb7o"
      }
    },
    {
      "cell_type": "markdown",
      "source": [
        "## 1.Import Library"
      ],
      "metadata": {
        "id": "Bpx4HTXRC00q"
      }
    },
    {
      "cell_type": "code",
      "execution_count": 3,
      "metadata": {
        "id": "21_Xb6_ACnLK"
      },
      "outputs": [],
      "source": [
        "import random"
      ]
    },
    {
      "cell_type": "markdown",
      "source": [
        "## 2.Mendefinisikan Huruf, Angka, dan Simbol"
      ],
      "metadata": {
        "id": "QhXDqa3lDDmw"
      }
    },
    {
      "cell_type": "code",
      "source": [
        "# Huruf Kecil\n",
        "huruf_kecil = \"abcdefghijklmnopqrstuvwxyz\"\n",
        "\n",
        "# Huruf Kapital\n",
        "huruf_kapital = \"ABCDEFGHIJKLMNOPQRSTUVWXYZ\"\n",
        "\n",
        "# Angka\n",
        "angka = \"0123456789\"\n",
        "\n",
        "# Simbol\n",
        "simbol = \"&<>*@/\\{}[]():;-+=$!#~*_|\""
      ],
      "metadata": {
        "id": "FmaGlxJNFSWY"
      },
      "execution_count": 4,
      "outputs": []
    },
    {
      "cell_type": "markdown",
      "source": [
        "## 3.Inisialiasi Jawaban Beserta Panjang *Password*"
      ],
      "metadata": {
        "id": "gHmlCvQpILYP"
      }
    },
    {
      "cell_type": "code",
      "source": [
        "# Jawaban\n",
        "jawaban = huruf_kecil + huruf_kapital + simbol\n",
        "\n",
        "# Panjang Password\n",
        "panjang_password = 16"
      ],
      "metadata": {
        "id": "sWw9tlYDIaxO"
      },
      "execution_count": 5,
      "outputs": []
    },
    {
      "cell_type": "markdown",
      "source": [
        "## 4.*Generating Password*"
      ],
      "metadata": {
        "id": "ZYMR7hGUJLae"
      }
    },
    {
      "cell_type": "code",
      "source": [
        "password = \"\".join(random.sample(jawaban, panjang_password))\n",
        "print(\"Password anda adalah\", password)"
      ],
      "metadata": {
        "colab": {
          "base_uri": "https://localhost:8080/"
        },
        "id": "5tPk2_1VJTWt",
        "outputId": "0fc0268d-93cb-4885-d224-6413a1578f0a"
      },
      "execution_count": 6,
      "outputs": [
        {
          "output_type": "stream",
          "name": "stdout",
          "text": [
            "Password anda adalah y)}pd+@TDYHlru=J\n"
          ]
        }
      ]
    },
    {
      "cell_type": "markdown",
      "source": [
        "## Referensi \n",
        "[1]\tDashlane Inc., “What is a password generator?,” Dashlane, 2022. https://www.dashlane.com/features/password-generator (diakses Feb 27, 2022).\n",
        "\n",
        "[2]\tNoviani, “47 Nama Simbol di Keyboard Komputer, Laptop, dan Smartphone,” Penulis Cilik, 2021. https://www.penuliscilik.com/47-nama-simbol-di-keyboard-komputer-laptop-dan-smartphone/ (diakses Feb 27, 2022).\n"
      ],
      "metadata": {
        "id": "qoOZ0bcXMbPd"
      }
    }
  ]
}